{
 "cells": [
  {
   "cell_type": "markdown",
   "metadata": {},
   "source": [
    "# Problem Statement\n",
    "\n",
    "* Dream Housing Finance company deals in all kinds of home loans. They have presence across all urban, semi urban, and rural areas. Customer first applies for a home loan and after that company validates the customer eligibility for the loan.\n",
    "\n",
    "* A marketing firm wants to launch a promotional campaign in different regions of the country. So, in order to do that, they need to understand which areas they should focus their resources in order to cover the entire region. We are provided with the population data based on different locations along with the demographics. The objective is to segregate the regions into different groups so that the marketing team can plan their resources accordingly. So, we have to apply classification techniques in order to segregate the regions into different clusters which will help the marketing team."
   ]
  },
  {
   "cell_type": "markdown",
   "metadata": {},
   "source": [
    "# Importing libraries"
   ]
  },
  {
   "cell_type": "code",
   "execution_count": 1,
   "metadata": {},
   "outputs": [
    {
     "data": {
      "text/plain": [
       "'Libraries Imported'"
      ]
     },
     "execution_count": 1,
     "metadata": {},
     "output_type": "execute_result"
    }
   ],
   "source": [
    "import numpy as np\n",
    "import pandas as pd\n",
    "import matplotlib.pyplot as plt\n",
    "import seaborn as sns\n",
    "import sklearn\n",
    "import warnings\n",
    "warnings.filterwarnings(action='ignore')\n",
    "\n",
    "\"Libraries Imported\""
   ]
  },
  {
   "cell_type": "markdown",
   "metadata": {},
   "source": [
    "# Fetching dataset and creating DataFrame object"
   ]
  },
  {
   "cell_type": "code",
   "execution_count": 2,
   "metadata": {},
   "outputs": [],
   "source": [
    "data = pd.read_csv('Population_Data.csv')"
   ]
  },
  {
   "cell_type": "code",
   "execution_count": 3,
   "metadata": {},
   "outputs": [
    {
     "data": {
      "text/html": [
       "<div>\n",
       "<style scoped>\n",
       "    .dataframe tbody tr th:only-of-type {\n",
       "        vertical-align: middle;\n",
       "    }\n",
       "\n",
       "    .dataframe tbody tr th {\n",
       "        vertical-align: top;\n",
       "    }\n",
       "\n",
       "    .dataframe thead th {\n",
       "        text-align: right;\n",
       "    }\n",
       "</style>\n",
       "<table border=\"1\" class=\"dataframe\">\n",
       "  <thead>\n",
       "    <tr style=\"text-align: right;\">\n",
       "      <th></th>\n",
       "      <th>Region</th>\n",
       "      <th>Office Location Id</th>\n",
       "      <th>Indians</th>\n",
       "      <th>Foreigners</th>\n",
       "      <th>Indian_Male</th>\n",
       "      <th>Indian_Female</th>\n",
       "      <th>Foreigners_Male</th>\n",
       "      <th>Foreigners_Female</th>\n",
       "      <th>Total Population</th>\n",
       "    </tr>\n",
       "  </thead>\n",
       "  <tbody>\n",
       "    <tr>\n",
       "      <th>0</th>\n",
       "      <td>Region 31</td>\n",
       "      <td>1</td>\n",
       "      <td>6,43,596</td>\n",
       "      <td>28,83,782</td>\n",
       "      <td>4,40,445</td>\n",
       "      <td>2,03,151</td>\n",
       "      <td>27,63,718</td>\n",
       "      <td>72,515</td>\n",
       "      <td>35,27,378</td>\n",
       "    </tr>\n",
       "    <tr>\n",
       "      <th>1</th>\n",
       "      <td>Region 17</td>\n",
       "      <td>9</td>\n",
       "      <td>3,19,933</td>\n",
       "      <td>15,01,899</td>\n",
       "      <td>2,13,477</td>\n",
       "      <td>1,06,456</td>\n",
       "      <td>14,49,303</td>\n",
       "      <td>27,671</td>\n",
       "      <td>1821832</td>\n",
       "    </tr>\n",
       "    <tr>\n",
       "      <th>2</th>\n",
       "      <td>Region 12</td>\n",
       "      <td>4</td>\n",
       "      <td>1,94,379</td>\n",
       "      <td>6,50,744</td>\n",
       "      <td>1,61,803</td>\n",
       "      <td>32,576</td>\n",
       "      <td>6,31,660</td>\n",
       "      <td>10,652</td>\n",
       "      <td>845123</td>\n",
       "    </tr>\n",
       "    <tr>\n",
       "      <th>3</th>\n",
       "      <td>Region 22</td>\n",
       "      <td>15</td>\n",
       "      <td>1,07,360</td>\n",
       "      <td>4,70,708</td>\n",
       "      <td>85,343</td>\n",
       "      <td>22,017</td>\n",
       "      <td>4,50,267</td>\n",
       "      <td>6,389</td>\n",
       "      <td>578068</td>\n",
       "    </tr>\n",
       "    <tr>\n",
       "      <th>4</th>\n",
       "      <td>Region 23</td>\n",
       "      <td>13</td>\n",
       "      <td>55,351</td>\n",
       "      <td>3,29,980</td>\n",
       "      <td>31,796</td>\n",
       "      <td>23,555</td>\n",
       "      <td>3,25,105</td>\n",
       "      <td>3,684</td>\n",
       "      <td>385331</td>\n",
       "    </tr>\n",
       "  </tbody>\n",
       "</table>\n",
       "</div>"
      ],
      "text/plain": [
       "      Region  Office Location Id   Indians Foreigners Indian_Male  \\\n",
       "0  Region 31                   1  6,43,596  28,83,782    4,40,445   \n",
       "1  Region 17                   9  3,19,933  15,01,899    2,13,477   \n",
       "2  Region 12                   4  1,94,379   6,50,744    1,61,803   \n",
       "3  Region 22                  15  1,07,360   4,70,708      85,343   \n",
       "4  Region 23                  13    55,351   3,29,980      31,796   \n",
       "\n",
       "  Indian_Female Foreigners_Male Foreigners_Female Total Population  \n",
       "0      2,03,151       27,63,718            72,515        35,27,378  \n",
       "1      1,06,456       14,49,303            27,671          1821832  \n",
       "2        32,576        6,31,660            10,652           845123  \n",
       "3        22,017        4,50,267             6,389           578068  \n",
       "4        23,555        3,25,105             3,684           385331  "
      ]
     },
     "execution_count": 3,
     "metadata": {},
     "output_type": "execute_result"
    }
   ],
   "source": [
    "data.head()"
   ]
  },
  {
   "cell_type": "code",
   "execution_count": 4,
   "metadata": {},
   "outputs": [
    {
     "name": "stdout",
     "output_type": "stream",
     "text": [
      "<class 'pandas.core.frame.DataFrame'>\n",
      "RangeIndex: 38 entries, 0 to 37\n",
      "Data columns (total 9 columns):\n",
      " #   Column              Non-Null Count  Dtype \n",
      "---  ------              --------------  ----- \n",
      " 0   Region              38 non-null     object\n",
      " 1   Office Location Id  38 non-null     int64 \n",
      " 2   Indians             38 non-null     object\n",
      " 3   Foreigners          38 non-null     object\n",
      " 4   Indian_Male         38 non-null     object\n",
      " 5   Indian_Female       38 non-null     object\n",
      " 6   Foreigners_Male     38 non-null     object\n",
      " 7   Foreigners_Female   38 non-null     object\n",
      " 8   Total Population    38 non-null     object\n",
      "dtypes: int64(1), object(8)\n",
      "memory usage: 1.5+ KB\n"
     ]
    }
   ],
   "source": [
    "data.info()"
   ]
  },
  {
   "cell_type": "markdown",
   "metadata": {},
   "source": [
    "As, we can see the presence of comma(,) ,in the integer values, won't let us to work with this data treatinh numerically. For this, the commas must be removed and the data must be converted into integer values.\n",
    "\n",
    "# Data Preprocessing"
   ]
  },
  {
   "cell_type": "code",
   "execution_count": 5,
   "metadata": {},
   "outputs": [],
   "source": [
    "def comma_remover(value): #Removes the comma from the value\n",
    "    return value.replace(',','')"
   ]
  },
  {
   "cell_type": "code",
   "execution_count": 6,
   "metadata": {},
   "outputs": [],
   "source": [
    "numeric_col = ['Indians','Foreigners','Indian_Male',\n",
    "               'Indian_Female','Foreigners_Male',\n",
    "               'Foreigners_Female','Total Population']"
   ]
  },
  {
   "cell_type": "code",
   "execution_count": 7,
   "metadata": {},
   "outputs": [],
   "source": [
    "for i in numeric_col:\n",
    "    data[i] = data[i].apply(comma_remover)"
   ]
  },
  {
   "cell_type": "code",
   "execution_count": 8,
   "metadata": {},
   "outputs": [
    {
     "data": {
      "text/html": [
       "<div>\n",
       "<style scoped>\n",
       "    .dataframe tbody tr th:only-of-type {\n",
       "        vertical-align: middle;\n",
       "    }\n",
       "\n",
       "    .dataframe tbody tr th {\n",
       "        vertical-align: top;\n",
       "    }\n",
       "\n",
       "    .dataframe thead th {\n",
       "        text-align: right;\n",
       "    }\n",
       "</style>\n",
       "<table border=\"1\" class=\"dataframe\">\n",
       "  <thead>\n",
       "    <tr style=\"text-align: right;\">\n",
       "      <th></th>\n",
       "      <th>Region</th>\n",
       "      <th>Office Location Id</th>\n",
       "      <th>Indians</th>\n",
       "      <th>Foreigners</th>\n",
       "      <th>Indian_Male</th>\n",
       "      <th>Indian_Female</th>\n",
       "      <th>Foreigners_Male</th>\n",
       "      <th>Foreigners_Female</th>\n",
       "      <th>Total Population</th>\n",
       "    </tr>\n",
       "  </thead>\n",
       "  <tbody>\n",
       "    <tr>\n",
       "      <th>0</th>\n",
       "      <td>Region 31</td>\n",
       "      <td>1</td>\n",
       "      <td>643596</td>\n",
       "      <td>2883782</td>\n",
       "      <td>440445</td>\n",
       "      <td>203151</td>\n",
       "      <td>2763718</td>\n",
       "      <td>72515</td>\n",
       "      <td>3527378</td>\n",
       "    </tr>\n",
       "    <tr>\n",
       "      <th>1</th>\n",
       "      <td>Region 17</td>\n",
       "      <td>9</td>\n",
       "      <td>319933</td>\n",
       "      <td>1501899</td>\n",
       "      <td>213477</td>\n",
       "      <td>106456</td>\n",
       "      <td>1449303</td>\n",
       "      <td>27671</td>\n",
       "      <td>1821832</td>\n",
       "    </tr>\n",
       "    <tr>\n",
       "      <th>2</th>\n",
       "      <td>Region 12</td>\n",
       "      <td>4</td>\n",
       "      <td>194379</td>\n",
       "      <td>650744</td>\n",
       "      <td>161803</td>\n",
       "      <td>32576</td>\n",
       "      <td>631660</td>\n",
       "      <td>10652</td>\n",
       "      <td>845123</td>\n",
       "    </tr>\n",
       "    <tr>\n",
       "      <th>3</th>\n",
       "      <td>Region 22</td>\n",
       "      <td>15</td>\n",
       "      <td>107360</td>\n",
       "      <td>470708</td>\n",
       "      <td>85343</td>\n",
       "      <td>22017</td>\n",
       "      <td>450267</td>\n",
       "      <td>6389</td>\n",
       "      <td>578068</td>\n",
       "    </tr>\n",
       "    <tr>\n",
       "      <th>4</th>\n",
       "      <td>Region 23</td>\n",
       "      <td>13</td>\n",
       "      <td>55351</td>\n",
       "      <td>329980</td>\n",
       "      <td>31796</td>\n",
       "      <td>23555</td>\n",
       "      <td>325105</td>\n",
       "      <td>3684</td>\n",
       "      <td>385331</td>\n",
       "    </tr>\n",
       "  </tbody>\n",
       "</table>\n",
       "</div>"
      ],
      "text/plain": [
       "      Region  Office Location Id Indians Foreigners Indian_Male Indian_Female  \\\n",
       "0  Region 31                   1  643596    2883782      440445        203151   \n",
       "1  Region 17                   9  319933    1501899      213477        106456   \n",
       "2  Region 12                   4  194379     650744      161803         32576   \n",
       "3  Region 22                  15  107360     470708       85343         22017   \n",
       "4  Region 23                  13   55351     329980       31796         23555   \n",
       "\n",
       "  Foreigners_Male Foreigners_Female Total Population  \n",
       "0         2763718             72515          3527378  \n",
       "1         1449303             27671          1821832  \n",
       "2          631660             10652           845123  \n",
       "3          450267              6389           578068  \n",
       "4          325105              3684           385331  "
      ]
     },
     "execution_count": 8,
     "metadata": {},
     "output_type": "execute_result"
    }
   ],
   "source": [
    "data.head()"
   ]
  },
  {
   "cell_type": "code",
   "execution_count": 9,
   "metadata": {},
   "outputs": [
    {
     "name": "stdout",
     "output_type": "stream",
     "text": [
      "<class 'pandas.core.frame.DataFrame'>\n",
      "RangeIndex: 38 entries, 0 to 37\n",
      "Data columns (total 9 columns):\n",
      " #   Column              Non-Null Count  Dtype \n",
      "---  ------              --------------  ----- \n",
      " 0   Region              38 non-null     object\n",
      " 1   Office Location Id  38 non-null     int64 \n",
      " 2   Indians             38 non-null     object\n",
      " 3   Foreigners          38 non-null     object\n",
      " 4   Indian_Male         38 non-null     object\n",
      " 5   Indian_Female       38 non-null     object\n",
      " 6   Foreigners_Male     38 non-null     object\n",
      " 7   Foreigners_Female   38 non-null     object\n",
      " 8   Total Population    38 non-null     object\n",
      "dtypes: int64(1), object(8)\n",
      "memory usage: 1.5+ KB\n"
     ]
    }
   ],
   "source": [
    "data.info()"
   ]
  },
  {
   "cell_type": "code",
   "execution_count": 10,
   "metadata": {},
   "outputs": [
    {
     "name": "stdout",
     "output_type": "stream",
     "text": [
      "<class 'pandas.core.frame.DataFrame'>\n",
      "RangeIndex: 38 entries, 0 to 37\n",
      "Data columns (total 9 columns):\n",
      " #   Column              Non-Null Count  Dtype \n",
      "---  ------              --------------  ----- \n",
      " 0   Region              38 non-null     object\n",
      " 1   Office Location Id  38 non-null     int64 \n",
      " 2   Indians             38 non-null     int64 \n",
      " 3   Foreigners          38 non-null     int64 \n",
      " 4   Indian_Male         38 non-null     int64 \n",
      " 5   Indian_Female       38 non-null     int64 \n",
      " 6   Foreigners_Male     38 non-null     int64 \n",
      " 7   Foreigners_Female   38 non-null     int64 \n",
      " 8   Total Population    38 non-null     int64 \n",
      "dtypes: int64(8), object(1)\n",
      "memory usage: 2.6+ KB\n"
     ]
    }
   ],
   "source": [
    "data[numeric_col] = data[numeric_col].apply(pd.to_numeric)\n",
    "data.info()"
   ]
  },
  {
   "cell_type": "markdown",
   "metadata": {},
   "source": [
    "* Hence, all numerical values are converted into int64\n",
    "## Checking the integrity of the Dataset"
   ]
  },
  {
   "cell_type": "code",
   "execution_count": 11,
   "metadata": {},
   "outputs": [
    {
     "data": {
      "text/plain": [
       "0"
      ]
     },
     "execution_count": 11,
     "metadata": {},
     "output_type": "execute_result"
    }
   ],
   "source": [
    "data[['Foreigners','Indians']].sum().sum() - data['Total Population'].sum()"
   ]
  },
  {
   "cell_type": "code",
   "execution_count": 12,
   "metadata": {},
   "outputs": [
    {
     "data": {
      "text/plain": [
       "0"
      ]
     },
     "execution_count": 12,
     "metadata": {},
     "output_type": "execute_result"
    }
   ],
   "source": [
    "data[['Indian_Male','Indian_Female']].sum().sum() - data['Indians'].sum()"
   ]
  },
  {
   "cell_type": "code",
   "execution_count": 14,
   "metadata": {},
   "outputs": [
    {
     "data": {
      "text/plain": [
       "-112859"
      ]
     },
     "execution_count": 14,
     "metadata": {},
     "output_type": "execute_result"
    }
   ],
   "source": [
    "data[['Foreigners_Male','Foreigners_Female']].sum().sum() - data['Foreigners'].sum()"
   ]
  },
  {
   "cell_type": "markdown",
   "metadata": {},
   "source": [
    "* As, we can see that in the foreigners there's an 'Other' category besides Female & Male groups."
   ]
  },
  {
   "cell_type": "code",
   "execution_count": 15,
   "metadata": {},
   "outputs": [
    {
     "data": {
      "text/html": [
       "<div>\n",
       "<style scoped>\n",
       "    .dataframe tbody tr th:only-of-type {\n",
       "        vertical-align: middle;\n",
       "    }\n",
       "\n",
       "    .dataframe tbody tr th {\n",
       "        vertical-align: top;\n",
       "    }\n",
       "\n",
       "    .dataframe thead th {\n",
       "        text-align: right;\n",
       "    }\n",
       "</style>\n",
       "<table border=\"1\" class=\"dataframe\">\n",
       "  <thead>\n",
       "    <tr style=\"text-align: right;\">\n",
       "      <th></th>\n",
       "      <th>Region</th>\n",
       "      <th>Office Location Id</th>\n",
       "      <th>Indians</th>\n",
       "      <th>Foreigners</th>\n",
       "      <th>Indian_Male</th>\n",
       "      <th>Indian_Female</th>\n",
       "      <th>Foreigners_Male</th>\n",
       "      <th>Foreigners_Female</th>\n",
       "      <th>Total Population</th>\n",
       "      <th>Foreigners_Other</th>\n",
       "    </tr>\n",
       "  </thead>\n",
       "  <tbody>\n",
       "    <tr>\n",
       "      <th>0</th>\n",
       "      <td>Region 31</td>\n",
       "      <td>1</td>\n",
       "      <td>643596</td>\n",
       "      <td>2883782</td>\n",
       "      <td>440445</td>\n",
       "      <td>203151</td>\n",
       "      <td>2763718</td>\n",
       "      <td>72515</td>\n",
       "      <td>3527378</td>\n",
       "      <td>47549</td>\n",
       "    </tr>\n",
       "    <tr>\n",
       "      <th>1</th>\n",
       "      <td>Region 17</td>\n",
       "      <td>9</td>\n",
       "      <td>319933</td>\n",
       "      <td>1501899</td>\n",
       "      <td>213477</td>\n",
       "      <td>106456</td>\n",
       "      <td>1449303</td>\n",
       "      <td>27671</td>\n",
       "      <td>1821832</td>\n",
       "      <td>24925</td>\n",
       "    </tr>\n",
       "    <tr>\n",
       "      <th>2</th>\n",
       "      <td>Region 12</td>\n",
       "      <td>4</td>\n",
       "      <td>194379</td>\n",
       "      <td>650744</td>\n",
       "      <td>161803</td>\n",
       "      <td>32576</td>\n",
       "      <td>631660</td>\n",
       "      <td>10652</td>\n",
       "      <td>845123</td>\n",
       "      <td>8432</td>\n",
       "    </tr>\n",
       "    <tr>\n",
       "      <th>3</th>\n",
       "      <td>Region 22</td>\n",
       "      <td>15</td>\n",
       "      <td>107360</td>\n",
       "      <td>470708</td>\n",
       "      <td>85343</td>\n",
       "      <td>22017</td>\n",
       "      <td>450267</td>\n",
       "      <td>6389</td>\n",
       "      <td>578068</td>\n",
       "      <td>14052</td>\n",
       "    </tr>\n",
       "    <tr>\n",
       "      <th>4</th>\n",
       "      <td>Region 23</td>\n",
       "      <td>13</td>\n",
       "      <td>55351</td>\n",
       "      <td>329980</td>\n",
       "      <td>31796</td>\n",
       "      <td>23555</td>\n",
       "      <td>325105</td>\n",
       "      <td>3684</td>\n",
       "      <td>385331</td>\n",
       "      <td>1191</td>\n",
       "    </tr>\n",
       "  </tbody>\n",
       "</table>\n",
       "</div>"
      ],
      "text/plain": [
       "      Region  Office Location Id  Indians  Foreigners  Indian_Male  \\\n",
       "0  Region 31                   1   643596     2883782       440445   \n",
       "1  Region 17                   9   319933     1501899       213477   \n",
       "2  Region 12                   4   194379      650744       161803   \n",
       "3  Region 22                  15   107360      470708        85343   \n",
       "4  Region 23                  13    55351      329980        31796   \n",
       "\n",
       "   Indian_Female  Foreigners_Male  Foreigners_Female  Total Population  \\\n",
       "0         203151          2763718              72515           3527378   \n",
       "1         106456          1449303              27671           1821832   \n",
       "2          32576           631660              10652            845123   \n",
       "3          22017           450267               6389            578068   \n",
       "4          23555           325105               3684            385331   \n",
       "\n",
       "   Foreigners_Other  \n",
       "0             47549  \n",
       "1             24925  \n",
       "2              8432  \n",
       "3             14052  \n",
       "4              1191  "
      ]
     },
     "execution_count": 15,
     "metadata": {},
     "output_type": "execute_result"
    }
   ],
   "source": [
    "data['Foreigners_Other'] = data['Foreigners'] - data['Foreigners_Male']-data['Foreigners_Female']\n",
    "data.head()"
   ]
  },
  {
   "cell_type": "code",
   "execution_count": 16,
   "metadata": {},
   "outputs": [
    {
     "data": {
      "text/plain": [
       "(38, 38)"
      ]
     },
     "execution_count": 16,
     "metadata": {},
     "output_type": "execute_result"
    }
   ],
   "source": [
    "data['Region'].nunique(), data['Office Location Id'].nunique()"
   ]
  },
  {
   "cell_type": "markdown",
   "metadata": {},
   "source": [
    "* The number of unique values of 'Region' & 'Office Location Id' is same and equals to the length of the data. That's why it can't be utilised here."
   ]
  },
  {
   "cell_type": "code",
   "execution_count": 17,
   "metadata": {},
   "outputs": [
    {
     "data": {
      "text/html": [
       "<div>\n",
       "<style scoped>\n",
       "    .dataframe tbody tr th:only-of-type {\n",
       "        vertical-align: middle;\n",
       "    }\n",
       "\n",
       "    .dataframe tbody tr th {\n",
       "        vertical-align: top;\n",
       "    }\n",
       "\n",
       "    .dataframe thead th {\n",
       "        text-align: right;\n",
       "    }\n",
       "</style>\n",
       "<table border=\"1\" class=\"dataframe\">\n",
       "  <thead>\n",
       "    <tr style=\"text-align: right;\">\n",
       "      <th></th>\n",
       "      <th>Indians</th>\n",
       "      <th>Foreigners</th>\n",
       "      <th>Indian_Male</th>\n",
       "      <th>Indian_Female</th>\n",
       "      <th>Foreigners_Male</th>\n",
       "      <th>Foreigners_Female</th>\n",
       "      <th>Foreigners_Other</th>\n",
       "    </tr>\n",
       "  </thead>\n",
       "  <tbody>\n",
       "    <tr>\n",
       "      <th>0</th>\n",
       "      <td>643596</td>\n",
       "      <td>2883782</td>\n",
       "      <td>440445</td>\n",
       "      <td>203151</td>\n",
       "      <td>2763718</td>\n",
       "      <td>72515</td>\n",
       "      <td>47549</td>\n",
       "    </tr>\n",
       "    <tr>\n",
       "      <th>1</th>\n",
       "      <td>319933</td>\n",
       "      <td>1501899</td>\n",
       "      <td>213477</td>\n",
       "      <td>106456</td>\n",
       "      <td>1449303</td>\n",
       "      <td>27671</td>\n",
       "      <td>24925</td>\n",
       "    </tr>\n",
       "    <tr>\n",
       "      <th>2</th>\n",
       "      <td>194379</td>\n",
       "      <td>650744</td>\n",
       "      <td>161803</td>\n",
       "      <td>32576</td>\n",
       "      <td>631660</td>\n",
       "      <td>10652</td>\n",
       "      <td>8432</td>\n",
       "    </tr>\n",
       "    <tr>\n",
       "      <th>3</th>\n",
       "      <td>107360</td>\n",
       "      <td>470708</td>\n",
       "      <td>85343</td>\n",
       "      <td>22017</td>\n",
       "      <td>450267</td>\n",
       "      <td>6389</td>\n",
       "      <td>14052</td>\n",
       "    </tr>\n",
       "    <tr>\n",
       "      <th>4</th>\n",
       "      <td>55351</td>\n",
       "      <td>329980</td>\n",
       "      <td>31796</td>\n",
       "      <td>23555</td>\n",
       "      <td>325105</td>\n",
       "      <td>3684</td>\n",
       "      <td>1191</td>\n",
       "    </tr>\n",
       "  </tbody>\n",
       "</table>\n",
       "</div>"
      ],
      "text/plain": [
       "   Indians  Foreigners  Indian_Male  Indian_Female  Foreigners_Male  \\\n",
       "0   643596     2883782       440445         203151          2763718   \n",
       "1   319933     1501899       213477         106456          1449303   \n",
       "2   194379      650744       161803          32576           631660   \n",
       "3   107360      470708        85343          22017           450267   \n",
       "4    55351      329980        31796          23555           325105   \n",
       "\n",
       "   Foreigners_Female  Foreigners_Other  \n",
       "0              72515             47549  \n",
       "1              27671             24925  \n",
       "2              10652              8432  \n",
       "3               6389             14052  \n",
       "4               3684              1191  "
      ]
     },
     "execution_count": 17,
     "metadata": {},
     "output_type": "execute_result"
    }
   ],
   "source": [
    "data1 = data.drop(columns=['Total Population','Region','Office Location Id'])\n",
    "data1.head()"
   ]
  },
  {
   "cell_type": "markdown",
   "metadata": {},
   "source": [
    "# Scaling the dataframe to apply K-Means algorithm"
   ]
  },
  {
   "cell_type": "code",
   "execution_count": 18,
   "metadata": {},
   "outputs": [
    {
     "data": {
      "text/html": [
       "<div>\n",
       "<style scoped>\n",
       "    .dataframe tbody tr th:only-of-type {\n",
       "        vertical-align: middle;\n",
       "    }\n",
       "\n",
       "    .dataframe tbody tr th {\n",
       "        vertical-align: top;\n",
       "    }\n",
       "\n",
       "    .dataframe thead th {\n",
       "        text-align: right;\n",
       "    }\n",
       "</style>\n",
       "<table border=\"1\" class=\"dataframe\">\n",
       "  <thead>\n",
       "    <tr style=\"text-align: right;\">\n",
       "      <th></th>\n",
       "      <th>Indians</th>\n",
       "      <th>Foreigners</th>\n",
       "      <th>Indian_Male</th>\n",
       "      <th>Indian_Female</th>\n",
       "      <th>Foreigners_Male</th>\n",
       "      <th>Foreigners_Female</th>\n",
       "      <th>Foreigners_Other</th>\n",
       "    </tr>\n",
       "  </thead>\n",
       "  <tbody>\n",
       "    <tr>\n",
       "      <th>0</th>\n",
       "      <td>0.157911</td>\n",
       "      <td>0.707555</td>\n",
       "      <td>0.108066</td>\n",
       "      <td>0.049844</td>\n",
       "      <td>0.678096</td>\n",
       "      <td>0.017792</td>\n",
       "      <td>0.011666</td>\n",
       "    </tr>\n",
       "    <tr>\n",
       "      <th>1</th>\n",
       "      <td>0.150537</td>\n",
       "      <td>0.706682</td>\n",
       "      <td>0.100446</td>\n",
       "      <td>0.050090</td>\n",
       "      <td>0.681934</td>\n",
       "      <td>0.013020</td>\n",
       "      <td>0.011728</td>\n",
       "    </tr>\n",
       "    <tr>\n",
       "      <th>2</th>\n",
       "      <td>0.206311</td>\n",
       "      <td>0.690691</td>\n",
       "      <td>0.171736</td>\n",
       "      <td>0.034576</td>\n",
       "      <td>0.670436</td>\n",
       "      <td>0.011306</td>\n",
       "      <td>0.008950</td>\n",
       "    </tr>\n",
       "    <tr>\n",
       "      <th>3</th>\n",
       "      <td>0.161150</td>\n",
       "      <td>0.706543</td>\n",
       "      <td>0.128102</td>\n",
       "      <td>0.033048</td>\n",
       "      <td>0.675861</td>\n",
       "      <td>0.009590</td>\n",
       "      <td>0.021092</td>\n",
       "    </tr>\n",
       "    <tr>\n",
       "      <th>4</th>\n",
       "      <td>0.118217</td>\n",
       "      <td>0.704763</td>\n",
       "      <td>0.067909</td>\n",
       "      <td>0.050308</td>\n",
       "      <td>0.694351</td>\n",
       "      <td>0.007868</td>\n",
       "      <td>0.002544</td>\n",
       "    </tr>\n",
       "  </tbody>\n",
       "</table>\n",
       "</div>"
      ],
      "text/plain": [
       "    Indians  Foreigners  Indian_Male  Indian_Female  Foreigners_Male  \\\n",
       "0  0.157911    0.707555     0.108066       0.049844         0.678096   \n",
       "1  0.150537    0.706682     0.100446       0.050090         0.681934   \n",
       "2  0.206311    0.690691     0.171736       0.034576         0.670436   \n",
       "3  0.161150    0.706543     0.128102       0.033048         0.675861   \n",
       "4  0.118217    0.704763     0.067909       0.050308         0.694351   \n",
       "\n",
       "   Foreigners_Female  Foreigners_Other  \n",
       "0           0.017792          0.011666  \n",
       "1           0.013020          0.011728  \n",
       "2           0.011306          0.008950  \n",
       "3           0.009590          0.021092  \n",
       "4           0.007868          0.002544  "
      ]
     },
     "execution_count": 18,
     "metadata": {},
     "output_type": "execute_result"
    }
   ],
   "source": [
    "from sklearn.preprocessing import Normalizer\n",
    "norm = Normalizer()\n",
    "col = data1.columns\n",
    "data1 = norm.fit_transform(data1)\n",
    "\n",
    "data1 = pd.DataFrame(data1, columns=col)\n",
    "data1.head()"
   ]
  },
  {
   "cell_type": "markdown",
   "metadata": {},
   "source": [
    "# Implementing the model"
   ]
  },
  {
   "cell_type": "code",
   "execution_count": 22,
   "metadata": {},
   "outputs": [],
   "source": [
    "from sklearn.cluster import KMeans"
   ]
  },
  {
   "cell_type": "code",
   "execution_count": 23,
   "metadata": {},
   "outputs": [
    {
     "data": {
      "text/plain": [
       "(array([0, 0, 0, 0, 1, 0, 1, 1, 1, 1, 0, 1, 1, 1, 1, 0, 1, 1, 1, 1, 1, 1,\n",
       "        1, 1, 1, 1, 1, 1, 1, 1, 1, 1, 1, 1, 1, 0, 1, 1]),\n",
       " 38)"
      ]
     },
     "execution_count": 23,
     "metadata": {},
     "output_type": "execute_result"
    }
   ],
   "source": [
    "kmeans = KMeans(n_clusters = 2)\n",
    "kmeans.fit(data1)\n",
    "pred = kmeans.predict(data1)\n",
    "\n",
    "pred, len(pred)"
   ]
  },
  {
   "cell_type": "code",
   "execution_count": 24,
   "metadata": {},
   "outputs": [
    {
     "data": {
      "text/plain": [
       "1    30\n",
       "0     8\n",
       "dtype: int64"
      ]
     },
     "execution_count": 24,
     "metadata": {},
     "output_type": "execute_result"
    }
   ],
   "source": [
    "pd.Series(pred).value_counts()"
   ]
  },
  {
   "cell_type": "code",
   "execution_count": 25,
   "metadata": {},
   "outputs": [
    {
     "data": {
      "text/plain": [
       "0.028113285898827122"
      ]
     },
     "execution_count": 25,
     "metadata": {},
     "output_type": "execute_result"
    }
   ],
   "source": [
    "kmeans.inertia_"
   ]
  },
  {
   "cell_type": "code",
   "execution_count": 26,
   "metadata": {},
   "outputs": [
    {
     "data": {
      "text/plain": [
       "-0.028113285898827115"
      ]
     },
     "execution_count": 26,
     "metadata": {},
     "output_type": "execute_result"
    }
   ],
   "source": [
    "kmeans.score(data1)"
   ]
  },
  {
   "cell_type": "code",
   "execution_count": 29,
   "metadata": {},
   "outputs": [],
   "source": [
    "def SSE_counter(data, n_cluster):\n",
    "    '''\n",
    "    input: data on which we have to work, number of clusters\n",
    "    output: a list containing the inertia score at different clusters\n",
    "    number\n",
    "    '''\n",
    "    sse = []\n",
    "    for i in range(1,n_cluster+1):\n",
    "        kmeans = KMeans(n_jobs=-1, n_clusters=i)\n",
    "        kmeans.fit(data)\n",
    "        sse.append(kmeans.inertia_)\n",
    "    return sse"
   ]
  },
  {
   "cell_type": "code",
   "execution_count": 42,
   "metadata": {},
   "outputs": [],
   "source": [
    "def effect(data, n_cluster):\n",
    "    '''\n",
    "    input: data on which we have to work, number of clusters\n",
    "    output: plots the diagram Inertia vs. # of clusters\n",
    "    '''\n",
    "    sse = SSE_counter(data, n_cluster)\n",
    "    table = pd.DataFrame({\n",
    "        '# of Clusters': range(1,n_cluster+1),\n",
    "        'SSE':sse\n",
    "    })\n",
    "    # Printing the DataFrame\n",
    "    print(table.head())\n",
    "    \n",
    "    #plotting\n",
    "    plt.figure(dpi=150,figsize=(10,7))\n",
    "    plt.plot(table['# of Clusters'],table['SSE'], marker='o')\n",
    "    plt.xlabel('# of Clusters')\n",
    "    plt.ylabel('SSE value/Inertia')\n",
    "    plt.title('Interia vs. # of Clusters')"
   ]
  },
  {
   "cell_type": "code",
   "execution_count": 36,
   "metadata": {},
   "outputs": [
    {
     "name": "stdout",
     "output_type": "stream",
     "text": [
      "   # of Clusters       SSE\n",
      "0              1  0.072260\n",
      "1              2  0.028113\n",
      "2              3  0.017667\n",
      "3              4  0.012200\n",
      "4              5  0.009471\n"
     ]
    },
    {
     "data": {
      "image/png": "[encoded data removed]",
      "text/plain": [
       "<Figure size 1500x1050 with 1 Axes>"
      ]
     },
     "metadata": {
      "needs_background": "light"
     },
     "output_type": "display_data"
    }
   ],
   "source": [
    "effect(data1, 10)"
   ]
  },
  {
   "cell_type": "markdown",
   "metadata": {},
   "source": [
    "* According to this plot, the inertia changes significantly from 1 to 2. The change in the range 2 to 4 is still significant though. Here the number of clusters is taken as 4"
   ]
  },
  {
   "cell_type": "code",
   "execution_count": 38,
   "metadata": {},
   "outputs": [],
   "source": [
    "kmeans = KMeans(n_clusters=4)\n",
    "kmeans.fit(data1)\n",
    "pred = kmeans.predict(data1)"
   ]
  },
  {
   "cell_type": "code",
   "execution_count": 39,
   "metadata": {},
   "outputs": [
    {
     "data": {
      "text/html": [
       "<div>\n",
       "<style scoped>\n",
       "    .dataframe tbody tr th:only-of-type {\n",
       "        vertical-align: middle;\n",
       "    }\n",
       "\n",
       "    .dataframe tbody tr th {\n",
       "        vertical-align: top;\n",
       "    }\n",
       "\n",
       "    .dataframe thead th {\n",
       "        text-align: right;\n",
       "    }\n",
       "</style>\n",
       "<table border=\"1\" class=\"dataframe\">\n",
       "  <thead>\n",
       "    <tr style=\"text-align: right;\">\n",
       "      <th></th>\n",
       "      <th>Indians</th>\n",
       "      <th>Foreigners</th>\n",
       "      <th>Indian_Male</th>\n",
       "      <th>Indian_Female</th>\n",
       "      <th>Foreigners_Male</th>\n",
       "      <th>Foreigners_Female</th>\n",
       "      <th>Foreigners_Other</th>\n",
       "      <th>Clusters</th>\n",
       "    </tr>\n",
       "  </thead>\n",
       "  <tbody>\n",
       "    <tr>\n",
       "      <th>0</th>\n",
       "      <td>0.157911</td>\n",
       "      <td>0.707555</td>\n",
       "      <td>0.108066</td>\n",
       "      <td>0.049844</td>\n",
       "      <td>0.678096</td>\n",
       "      <td>0.017792</td>\n",
       "      <td>0.011666</td>\n",
       "      <td>2</td>\n",
       "    </tr>\n",
       "    <tr>\n",
       "      <th>1</th>\n",
       "      <td>0.150537</td>\n",
       "      <td>0.706682</td>\n",
       "      <td>0.100446</td>\n",
       "      <td>0.050090</td>\n",
       "      <td>0.681934</td>\n",
       "      <td>0.013020</td>\n",
       "      <td>0.011728</td>\n",
       "      <td>2</td>\n",
       "    </tr>\n",
       "    <tr>\n",
       "      <th>2</th>\n",
       "      <td>0.206311</td>\n",
       "      <td>0.690691</td>\n",
       "      <td>0.171736</td>\n",
       "      <td>0.034576</td>\n",
       "      <td>0.670436</td>\n",
       "      <td>0.011306</td>\n",
       "      <td>0.008950</td>\n",
       "      <td>1</td>\n",
       "    </tr>\n",
       "    <tr>\n",
       "      <th>3</th>\n",
       "      <td>0.161150</td>\n",
       "      <td>0.706543</td>\n",
       "      <td>0.128102</td>\n",
       "      <td>0.033048</td>\n",
       "      <td>0.675861</td>\n",
       "      <td>0.009590</td>\n",
       "      <td>0.021092</td>\n",
       "      <td>2</td>\n",
       "    </tr>\n",
       "    <tr>\n",
       "      <th>4</th>\n",
       "      <td>0.118217</td>\n",
       "      <td>0.704763</td>\n",
       "      <td>0.067909</td>\n",
       "      <td>0.050308</td>\n",
       "      <td>0.694351</td>\n",
       "      <td>0.007868</td>\n",
       "      <td>0.002544</td>\n",
       "      <td>3</td>\n",
       "    </tr>\n",
       "  </tbody>\n",
       "</table>\n",
       "</div>"
      ],
      "text/plain": [
       "    Indians  Foreigners  Indian_Male  Indian_Female  Foreigners_Male  \\\n",
       "0  0.157911    0.707555     0.108066       0.049844         0.678096   \n",
       "1  0.150537    0.706682     0.100446       0.050090         0.681934   \n",
       "2  0.206311    0.690691     0.171736       0.034576         0.670436   \n",
       "3  0.161150    0.706543     0.128102       0.033048         0.675861   \n",
       "4  0.118217    0.704763     0.067909       0.050308         0.694351   \n",
       "\n",
       "   Foreigners_Female  Foreigners_Other  Clusters  \n",
       "0           0.017792          0.011666         2  \n",
       "1           0.013020          0.011728         2  \n",
       "2           0.011306          0.008950         1  \n",
       "3           0.009590          0.021092         2  \n",
       "4           0.007868          0.002544         3  "
      ]
     },
     "execution_count": 39,
     "metadata": {},
     "output_type": "execute_result"
    }
   ],
   "source": [
    "data1['Clusters'] = pred\n",
    "data1.head()"
   ]
  },
  {
   "cell_type": "code",
   "execution_count": 41,
   "metadata": {},
   "outputs": [
    {
     "data": {
      "text/plain": [
       "3    16\n",
       "0    14\n",
       "2     6\n",
       "1     2\n",
       "Name: Clusters, dtype: int64"
      ]
     },
     "execution_count": 41,
     "metadata": {},
     "output_type": "execute_result"
    }
   ],
   "source": [
    "data1.Clusters.value_counts()"
   ]
  },
  {
   "cell_type": "code",
   "execution_count": 46,
   "metadata": {},
   "outputs": [],
   "source": [
    "def plot_clusters(data, str_x, str_y, n_clusters):\n",
    "    '''\n",
    "    input : column name to be plotted along X-axis, \n",
    "    column name to be plotted along Y-axis, # of Clusters\n",
    "    \n",
    "    output: Plots the clusters on a scatter plot\n",
    "    '''\n",
    "    x=[]\n",
    "    y=[]\n",
    "    for i in range(n_clusters):\n",
    "        x.append(data[data.Clusters==i][str_x])\n",
    "        y.append(data[data.Clusters==i][str_y])\n",
    "    for i in range(n_clusters):\n",
    "        plt.scatter(x[i],y[i],label=f'Cluster{i}')\n",
    "        \n",
    "    plt.xlabel(str_x)\n",
    "    plt.ylabel(str_y)\n",
    "    plt.title(f'{str_x} vs. {str_y}')\n",
    "    plt.legend()\n",
    "    plt.show()"
   ]
  },
  {
   "cell_type": "markdown",
   "metadata": {},
   "source": [
    "# Plotting clusters and analysis of the behaviour scatter plot"
   ]
  },
  {
   "cell_type": "code",
   "execution_count": 47,
   "metadata": {},
   "outputs": [
    {
     "data": {
      "image/png": "[encoded data removed]",
      "text/plain": [
       "<Figure size 432x288 with 1 Axes>"
      ]
     },
     "metadata": {
      "needs_background": "light"
     },
     "output_type": "display_data"
    }
   ],
   "source": [
    "plot_clusters(data1, 'Indians','Foreigners',4)"
   ]
  },
  {
   "cell_type": "markdown",
   "metadata": {},
   "source": [
    "* In this scatter plot, we can 4 different colurs have been assigned for 4 different groups! \n",
    "    * Blue : Low population of Indians and High population of Foreigners\n",
    "    * Yellow : High population of Indians and low population of Foreigners\n",
    "    * Green : Moderate population of Indian and low population of Foreigners\n",
    "    * Red : Moderate population of Foreigners and low population of Indians\n",
    "* The scatter plot between Indian and Foreigners is quite linear with a negetive slop. It suggests that , in a certain region with population, the number of Indian increases if the the number of Foreigners decreases and viceversa!\n",
    "* As, we can see there's an unwanted mixer of blue and red dots. This phenomena can't be describe using only two varibales. It may be explainable using other dimensions."
   ]
  },
  {
   "cell_type": "code",
   "execution_count": 48,
   "metadata": {},
   "outputs": [
    {
     "data": {
      "image/png": "[encoded data removed]",
      "text/plain": [
       "<Figure size 432x288 with 1 Axes>"
      ]
     },
     "metadata": {
      "needs_background": "light"
     },
     "output_type": "display_data"
    }
   ],
   "source": [
    "plot_clusters(data1,'Indian_Male','Foreigners_Male',4)"
   ]
  },
  {
   "cell_type": "markdown",
   "metadata": {},
   "source": [
    "* Here, we can see the clear clusters \n",
    "* The relationship between Indian Male and Foreigner Male is linear and the slop is negetive!"
   ]
  },
  {
   "cell_type": "code",
   "execution_count": 49,
   "metadata": {},
   "outputs": [
    {
     "data": {
      "image/png": "[encoded data removed]",
      "text/plain": [
       "<Figure size 432x288 with 1 Axes>"
      ]
     },
     "metadata": {
      "needs_background": "light"
     },
     "output_type": "display_data"
    }
   ],
   "source": [
    "plot_clusters(data1, 'Indian_Female','Foreigners_Female',4)"
   ]
  },
  {
   "cell_type": "markdown",
   "metadata": {},
   "source": [
    "* The scatter diagram shows a clusters of 4 types though it isn't obvious appearently. This extremely unwanted result can't be described using this two dimensions!"
   ]
  },
  {
   "cell_type": "code",
   "execution_count": 51,
   "metadata": {},
   "outputs": [
    {
     "data": {
      "image/png": "[encoded data removed]",
      "text/plain": [
       "<Figure size 432x288 with 1 Axes>"
      ]
     },
     "metadata": {
      "needs_background": "light"
     },
     "output_type": "display_data"
    }
   ],
   "source": [
    "plot_clusters(data1,'Foreigners_Female','Foreigners_Other',4)"
   ]
  },
  {
   "cell_type": "markdown",
   "metadata": {},
   "source": [
    "* This unwanted result can't be explained using these two variables!"
   ]
  },
  {
   "cell_type": "code",
   "execution_count": 52,
   "metadata": {},
   "outputs": [
    {
     "data": {
      "image/png": "[encoded data removed]",
      "text/plain": [
       "<Figure size 432x288 with 1 Axes>"
      ]
     },
     "metadata": {
      "needs_background": "light"
     },
     "output_type": "display_data"
    }
   ],
   "source": [
    "plot_clusters(data1,'Foreigners_Male','Foreigners_Other',4)"
   ]
  },
  {
   "cell_type": "code",
   "execution_count": 53,
   "metadata": {},
   "outputs": [
    {
     "data": {
      "image/png": "[encoded data removed]",
      "text/plain": [
       "<Figure size 432x288 with 1 Axes>"
      ]
     },
     "metadata": {
      "needs_background": "light"
     },
     "output_type": "display_data"
    }
   ],
   "source": [
    "plot_clusters(data1,'Indian_Male','Indian_Female',4)"
   ]
  },
  {
   "cell_type": "code",
   "execution_count": 54,
   "metadata": {},
   "outputs": [
    {
     "data": {
      "image/png": "[encoded data removed]",
      "text/plain": [
       "<Figure size 432x288 with 1 Axes>"
      ]
     },
     "metadata": {
      "needs_background": "light"
     },
     "output_type": "display_data"
    }
   ],
   "source": [
    "plot_clusters(data1,'Foreigners_Female','Foreigners_Male',4)"
   ]
  }
 ],
 "metadata": {
  "kernelspec": {
   "display_name": "Python 3",
   "language": "python",
   "name": "python3"
  },
  "language_info": {
   "codemirror_mode": {
    "name": "ipython",
    "version": 3
   },
   "file_extension": ".py",
   "mimetype": "text/x-python",
   "name": "python",
   "nbconvert_exporter": "python",
   "pygments_lexer": "ipython3",
   "version": "3.7.6"
  }
 },
 "nbformat": 4,
 "nbformat_minor": 4
}
